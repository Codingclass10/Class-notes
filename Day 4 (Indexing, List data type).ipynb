{
 "cells": [
  {
   "cell_type": "markdown",
   "metadata": {},
   "source": [
    "# Indexing"
   ]
  },
  {
   "cell_type": "code",
   "execution_count": 1,
   "metadata": {},
   "outputs": [
    {
     "name": "stdout",
     "output_type": "stream",
     "text": [
      "N\n"
     ]
    }
   ],
   "source": [
    "#indexing means giving position to a particular thing within a list or string\n",
    "name = \"ANGARAJ\" #In this string \"ANGARAJ\" , \"A\" has position 0, \"N\" has position 1 and so on\n",
    "\n",
    "# We can extract the letter \"A\" of \"ANGARAJ\" using the index of it \n",
    "print(name[1])\n",
    "#using variable_name[index] we can extract out the part we need"
   ]
  },
  {
   "cell_type": "code",
   "execution_count": 2,
   "metadata": {},
   "outputs": [
    {
     "ename": "TypeError",
     "evalue": "'int' object is not subscriptable",
     "output_type": "error",
     "traceback": [
      "\u001b[1;31m---------------------------------------------------------------------------\u001b[0m",
      "\u001b[1;31mTypeError\u001b[0m                                 Traceback (most recent call last)",
      "\u001b[1;32m<ipython-input-2-d12c1a45fda2>\u001b[0m in \u001b[0;36m<module>\u001b[1;34m\u001b[0m\n\u001b[0;32m      1\u001b[0m \u001b[1;31m#Note that indexing is not possible in numbers datatype(interger and floats)\u001b[0m\u001b[1;33m\u001b[0m\u001b[1;33m\u001b[0m\u001b[1;33m\u001b[0m\u001b[0m\n\u001b[0;32m      2\u001b[0m \u001b[0mnum1\u001b[0m\u001b[1;33m=\u001b[0m\u001b[1;36m9845\u001b[0m\u001b[1;33m\u001b[0m\u001b[1;33m\u001b[0m\u001b[0m\n\u001b[1;32m----> 3\u001b[1;33m \u001b[0mprint\u001b[0m\u001b[1;33m(\u001b[0m\u001b[0mnum1\u001b[0m\u001b[1;33m[\u001b[0m\u001b[1;36m0\u001b[0m\u001b[1;33m]\u001b[0m\u001b[1;33m)\u001b[0m\u001b[1;33m\u001b[0m\u001b[1;33m\u001b[0m\u001b[0m\n\u001b[0m\u001b[0;32m      4\u001b[0m \u001b[1;31m#error such as this will occur when we try to index number data type\u001b[0m\u001b[1;33m\u001b[0m\u001b[1;33m\u001b[0m\u001b[1;33m\u001b[0m\u001b[0m\n",
      "\u001b[1;31mTypeError\u001b[0m: 'int' object is not subscriptable"
     ]
    }
   ],
   "source": [
    "#Note that indexing is not possible in numbers datatype(interger and floats)\n",
    "num1=9845\n",
    "print(num1[0])\n",
    "#error such as this will occur when we try to index number data type"
   ]
  },
  {
   "cell_type": "code",
   "execution_count": 3,
   "metadata": {},
   "outputs": [
    {
     "name": "stdout",
     "output_type": "stream",
     "text": [
      "ANGA\n"
     ]
    }
   ],
   "source": [
    "#indexing can be used to extract multiple part of a string as well\n",
    "name = \"ANGARAJ\"\n",
    "# like if we want to extract \"ANGA\" from \"ANGARAJ\" we can do as such\n",
    "print(name[0:4])#name[start:end]\n",
    "# Note that the index [0:4] means start from 0 and end at 4 excluding the index 4"
   ]
  },
  {
   "cell_type": "code",
   "execution_count": 4,
   "metadata": {},
   "outputs": [
    {
     "name": "stdout",
     "output_type": "stream",
     "text": [
      "GARAJ\n",
      "GARAJ\n"
     ]
    }
   ],
   "source": [
    "# basically indexing is done using the general rule variable_name[start:end:step]\n",
    "name = \"ANGARAJ\"\n",
    "print(name[2::])# You can do this if you want to start at index 2 and go all the way to the end\n",
    "print(name[2:7])# or this way works too but the above one is considered better"
   ]
  },
  {
   "cell_type": "code",
   "execution_count": 5,
   "metadata": {},
   "outputs": [
    {
     "name": "stdout",
     "output_type": "stream",
     "text": [
      "AGRJ\n"
     ]
    }
   ],
   "source": [
    "name = \"ANGARAJ\"\n",
    "#suppose if we want to print out stepping each word in middle as like \"AGRJ\" we can do this\n",
    "print(name[0::2])\n",
    "# step as 2  means skip each character"
   ]
  },
  {
   "cell_type": "code",
   "execution_count": 6,
   "metadata": {},
   "outputs": [
    {
     "name": "stdout",
     "output_type": "stream",
     "text": [
      "I am Anga\n"
     ]
    }
   ],
   "source": [
    "#Indexing also take account of whitespaces and other symbols used within the string\n",
    "name2 = \"I am Angaraj!\"\n",
    "print(name2[0:9])"
   ]
  },
  {
   "cell_type": "code",
   "execution_count": 7,
   "metadata": {},
   "outputs": [
    {
     "name": "stdout",
     "output_type": "stream",
     "text": [
      "J\n",
      "ARAJ\n",
      "ARAJ\n"
     ]
    }
   ],
   "source": [
    "# indexing is also done in reverse order\n",
    "#negative indexing is used to isolate a single character from a string\n",
    "name = \"ANGARAJ\"\n",
    "print(name[-1])# negative indexing start from -1 ,from end of the string\n",
    "# for extracting \"ARAJ\" from \"ANGARAJ\" we can either use\n",
    "print(name[3:7])\n",
    "#or we can use\n",
    "print(name[-4::])"
   ]
  },
  {
   "cell_type": "code",
   "execution_count": 8,
   "metadata": {},
   "outputs": [
    {
     "name": "stdout",
     "output_type": "stream",
     "text": [
      "JARAGNA\n"
     ]
    }
   ],
   "source": [
    "#Indexing is also useful if we want to reverse a string\n",
    "name = \"ANGARAJ\"\n",
    "print(name[::-1])"
   ]
  },
  {
   "cell_type": "markdown",
   "metadata": {},
   "source": [
    "# List Datatype"
   ]
  },
  {
   "cell_type": "code",
   "execution_count": 9,
   "metadata": {},
   "outputs": [
    {
     "name": "stdout",
     "output_type": "stream",
     "text": [
      "['Angaraj', 'vision', 2, 'Hello', True]\n"
     ]
    }
   ],
   "source": [
    "# List is a datatype that stores multiple datatype within itself\n",
    "# for defining or creating a list we can either\n",
    "hello=[]\n",
    "hello2=list()\n",
    "name_list = [\"Angaraj\", \"vision\", 2 , \"Hello\", True] # set \n",
    "# or we can use list() function\n",
    "name_list2 = list((\"Angaraj\", \"vision\", 2 , \"Hello\", True))# using this method don't forget to put double brackets\n",
    "print(name_list)"
   ]
  },
  {
   "cell_type": "code",
   "execution_count": 10,
   "metadata": {},
   "outputs": [
    {
     "name": "stdout",
     "output_type": "stream",
     "text": [
      "['Angaraj', 'vision', 2, 'Hello', True, 'Angaraj']\n"
     ]
    }
   ],
   "source": [
    "# unlike other list like datatype, list allow duplicates\n",
    "name_list = [\"Angaraj\", \"vision\", 2 , \"Hello\", True, \"Angaraj\"]\n",
    "print(name_list)"
   ]
  },
  {
   "cell_type": "markdown",
   "metadata": {},
   "source": [
    "## Indexing in list"
   ]
  },
  {
   "cell_type": "code",
   "execution_count": 11,
   "metadata": {},
   "outputs": [
    {
     "name": "stdout",
     "output_type": "stream",
     "text": [
      "Angaraj\n"
     ]
    }
   ],
   "source": [
    "# indexing in list is same as in string but each item is considered a separate entity\n",
    "name_list = [\"Angaraj\", \"vision\", 2 , \"Hello\", True, \"Angaraj\"]\n",
    "print(name_list[0])# doing this print \"Angaraj\" because at indx 0 of this list there is angaraj\n",
    "#other things apply same as string"
   ]
  },
  {
   "cell_type": "markdown",
   "metadata": {},
   "source": [
    "## Adding items to the list"
   ]
  },
  {
   "cell_type": "code",
   "execution_count": 12,
   "metadata": {},
   "outputs": [
    {
     "name": "stdout",
     "output_type": "stream",
     "text": [
      "['Angaraj', 'vision', 2, 'Hello', True, 'Angaraj', 'Jiraya']\n",
      "['Angaraj', 'vision', 2, 'Hello', True, 'Angaraj', 'Jiraya', 'Arun']\n"
     ]
    }
   ],
   "source": [
    "# list is changeable meaning items can be add or removed\n",
    "name_list = [\"Angaraj\", \"vision\", 2 , \"Hello\", True, \"Angaraj\"]\n",
    "name_list.append(\"Jiraya\")# append( ) adds item to the last index position\n",
    "print(name_list)\n",
    "name_list.append(\"Arun\")\n",
    "print(name_list)"
   ]
  },
  {
   "cell_type": "code",
   "execution_count": 13,
   "metadata": {},
   "outputs": [
    {
     "name": "stdout",
     "output_type": "stream",
     "text": [
      "['Angaraj', 'Hello', 'vision', 2, 'Hello', True, 'Angaraj', 'Jiraya', 'Arun']\n"
     ]
    }
   ],
   "source": [
    "# You can use insert( ) for adding items into the list\n",
    "name_list.insert(1,\"Hello\")# insert(index_position,add garney item) adds item to the specified position\n",
    "print(name_list)"
   ]
  },
  {
   "cell_type": "code",
   "execution_count": 14,
   "metadata": {},
   "outputs": [
    {
     "name": "stdout",
     "output_type": "stream",
     "text": [
      "ehehello\n",
      "['angaraj', 'vision', 'eren', 'harry']\n"
     ]
    }
   ],
   "source": [
    "#extend() concatenates two lists together\n",
    "name1=[\"angaraj\",'vision']\n",
    "name2=[\"eren\",\"harry\"]\n",
    "name1.extend(name2)\n",
    "print(\"ehe\"+\"hello\")\n",
    "print(name1)"
   ]
  },
  {
   "cell_type": "markdown",
   "metadata": {},
   "source": [
    "## Removing items from list"
   ]
  },
  {
   "cell_type": "code",
   "execution_count": 15,
   "metadata": {},
   "outputs": [
    {
     "name": "stdout",
     "output_type": "stream",
     "text": [
      "['vision', 2, 'Hello', True, 'Angaraj']\n"
     ]
    }
   ],
   "source": [
    "# remove() function removes the specified thing from list\n",
    "name_list = [\"Angaraj\", \"vision\", 2 , \"Hello\", True, \"Angaraj\"]\n",
    "name_list.remove(\"Angaraj\")\n",
    "print(name_list)\n",
    "# note that remove() works according to the index of list so oly the first \"Angaraj\" is removed"
   ]
  },
  {
   "cell_type": "code",
   "execution_count": 16,
   "metadata": {},
   "outputs": [
    {
     "name": "stdout",
     "output_type": "stream",
     "text": [
      "['Angaraj', 'vision', 2, True, 'Angaraj']\n",
      "['Angaraj', 'vision', 2, True]\n"
     ]
    }
   ],
   "source": [
    "name_list = [\"Angaraj\", \"vision\", 2 , \"Hello\", True, \"Angaraj\"]\n",
    "# pop() function can be used to remove on index wise basis\n",
    "name_list.pop(3)\n",
    "print(name_list)\n",
    "# if the pop() is left empty it removes the last item from list\n",
    "name_list.pop()\n",
    "print(name_list)"
   ]
  },
  {
   "cell_type": "code",
   "execution_count": 17,
   "metadata": {},
   "outputs": [
    {
     "name": "stdout",
     "output_type": "stream",
     "text": [
      "[]\n"
     ]
    }
   ],
   "source": [
    "name_list = [\"Angaraj\", \"vision\", 2 , \"Hello\", True, \"Angaraj\"]\n",
    "# clear() completely emplies the list but the list still remains\n",
    "name_list.clear()\n",
    "print(name_list)"
   ]
  },
  {
   "cell_type": "code",
   "execution_count": 18,
   "metadata": {},
   "outputs": [
    {
     "name": "stdout",
     "output_type": "stream",
     "text": [
      "['vision', 2, 'Hello', True, 'Angaraj']\n"
     ]
    },
    {
     "ename": "NameError",
     "evalue": "name 'name_list' is not defined",
     "output_type": "error",
     "traceback": [
      "\u001b[1;31m---------------------------------------------------------------------------\u001b[0m",
      "\u001b[1;31mNameError\u001b[0m                                 Traceback (most recent call last)",
      "\u001b[1;32m<ipython-input-18-708f8310ec02>\u001b[0m in \u001b[0;36m<module>\u001b[1;34m\u001b[0m\n\u001b[0;32m      5\u001b[0m \u001b[1;31m# it can also be used to completely delete the list from existence\u001b[0m\u001b[1;33m\u001b[0m\u001b[1;33m\u001b[0m\u001b[1;33m\u001b[0m\u001b[0m\n\u001b[0;32m      6\u001b[0m \u001b[1;32mdel\u001b[0m \u001b[0mname_list\u001b[0m\u001b[1;33m\u001b[0m\u001b[1;33m\u001b[0m\u001b[0m\n\u001b[1;32m----> 7\u001b[1;33m \u001b[0mprint\u001b[0m\u001b[1;33m(\u001b[0m\u001b[0mname_list\u001b[0m\u001b[1;33m)\u001b[0m\u001b[1;31m# this error occurs because now there is no such thing as name_list after the del statement\u001b[0m\u001b[1;33m\u001b[0m\u001b[1;33m\u001b[0m\u001b[0m\n\u001b[0m",
      "\u001b[1;31mNameError\u001b[0m: name 'name_list' is not defined"
     ]
    }
   ],
   "source": [
    "name_list = [\"Angaraj\", \"vision\", 2 , \"Hello\", True, \"Angaraj\"]\n",
    "# del can be used to delete a particular item in the list\n",
    "del name_list[0]\n",
    "print(name_list)\n",
    "# it can also be used to completely delete the list from existence\n",
    "del name_list\n",
    "print(name_list)# this error occurs because now there is no such thing as name_list after the del statement"
   ]
  },
  {
   "cell_type": "code",
   "execution_count": null,
   "metadata": {},
   "outputs": [],
   "source": []
  }
 ],
 "metadata": {
  "kernelspec": {
   "display_name": "Python 3",
   "language": "python",
   "name": "python3"
  },
  "language_info": {
   "codemirror_mode": {
    "name": "ipython",
    "version": 3
   },
   "file_extension": ".py",
   "mimetype": "text/x-python",
   "name": "python",
   "nbconvert_exporter": "python",
   "pygments_lexer": "ipython3",
   "version": "3.7.1"
  }
 },
 "nbformat": 4,
 "nbformat_minor": 2
}
