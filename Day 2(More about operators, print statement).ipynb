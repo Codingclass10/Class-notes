{
 "cells": [
  {
   "cell_type": "code",
   "execution_count": 1,
   "metadata": {},
   "outputs": [
    {
     "name": "stdout",
     "output_type": "stream",
     "text": [
      "hello everyone\n",
      "hello\n"
     ]
    }
   ],
   "source": [
    "print(\"hello everyone\")\n",
    "print(\"hello\")"
   ]
  },
  {
   "cell_type": "markdown",
   "metadata": {},
   "source": [
    "## Operator\n"
   ]
  },
  {
   "cell_type": "code",
   "execution_count": 9,
   "metadata": {},
   "outputs": [
    {
     "name": "stdout",
     "output_type": "stream",
     "text": [
      "False\n"
     ]
    }
   ],
   "source": [
    "a=25\n",
    "b=16\n",
    "print(a>b and b==a)# the \"and \" operator checks the condition and give output as True if both the statements are true\n",
    "\n",
    "# for above \"a > b\" is true but \"a == b\" is false so the output is False"
   ]
  },
  {
   "cell_type": "code",
   "execution_count": 12,
   "metadata": {},
   "outputs": [
    {
     "name": "stdout",
     "output_type": "stream",
     "text": [
      "False\n"
     ]
    }
   ],
   "source": [
    "a=25\n",
    "b=16\n",
    "print(a>b or b==a)# the \"or \" operator checks the condition and give output as True if one of the statements is true\n",
    "\n",
    "# for above \"a > b\" is true but \"a == b\" is false so the output is True"
   ]
  },
  {
   "cell_type": "code",
   "execution_count": 11,
   "metadata": {},
   "outputs": [
    {
     "name": "stdout",
     "output_type": "stream",
     "text": [
      "False\n"
     ]
    }
   ],
   "source": [
    "a=25\n",
    "b=16\n",
    "print(not a>b) # \"not\"  just reverses the result \n",
    "\n",
    "# the above statement \"a > b\" is true as 25 > 16 but the \"not \" operator reverses the result and gives False as output"
   ]
  },
  {
   "cell_type": "markdown",
   "metadata": {},
   "source": [
    "## Print statement\n"
   ]
  },
  {
   "cell_type": "code",
   "execution_count": 2,
   "metadata": {},
   "outputs": [
    {
     "name": "stdout",
     "output_type": "stream",
     "text": [
      "what's your name?: ram\n",
      "hello\n",
      "ram\n",
      "Hello ram\n",
      "helloram\n"
     ]
    }
   ],
   "source": [
    "a=input(\"what's your name?: \")\n",
    "print(\"hello\")\n",
    "print(a)\n",
    "print(\"Hello\",a) #using \",\" to concatenate will add space between the words\n",
    "print(\"hello\"+a) # using \"+\" to concatenate will eliminate space between the words"
   ]
  },
  {
   "cell_type": "code",
   "execution_count": 4,
   "metadata": {},
   "outputs": [
    {
     "name": "stdout",
     "output_type": "stream",
     "text": [
      "name:angaraj\n",
      "age:15\n",
      "hello angaraj How are you?so you are  15 years old.\n"
     ]
    }
   ],
   "source": [
    "name=input(\"name:\")\n",
    "age=input(\"age:\")\n",
    "print(\"hello\", name,\"How are you?so you are \",age,\"years old.\")# Multiple \", \" can be used to concatenate different strings\n",
    "print(\"hello\"+\" \"+ name,\"How are you?so you are \",age,\"years old.\")# Combination of \",\" and \"+\"  can also be used"
   ]
  },
  {
   "cell_type": "markdown",
   "metadata": {},
   "source": [
    "## Casting\n"
   ]
  },
  {
   "cell_type": "code",
   "execution_count": 3,
   "metadata": {},
   "outputs": [
    {
     "name": "stdout",
     "output_type": "stream",
     "text": [
      "2\n",
      "2\n"
     ]
    }
   ],
   "source": [
    "a=2.456 # Suppose you have this number but want the integer part only  so you need to change the data type \n",
    "a=int(a)# In this way you can do this\n",
    "print(a)\n",
    "a=str(a)# you can even change any data type into string\n",
    "print(a)"
   ]
  },
  {
   "cell_type": "code",
   "execution_count": 7,
   "metadata": {},
   "outputs": [
    {
     "name": "stdout",
     "output_type": "stream",
     "text": [
      "3.45\n",
      "24\n"
     ]
    }
   ],
   "source": [
    "# the only consideration you must follow is while changing string to other data type\n",
    "a=\"3.45\"\n",
    "b=\"24\"\n",
    "c=\"Hello\"\n",
    "print(float(a)) # you can change string \"a\" to float \"a\" because the conversion is valid\n",
    "# However if you try to directly convert string \"a \" to integer \"a\" error will arise\n",
    "print(int(b))#same is the case with this\n",
    "\n"
   ]
  },
  {
   "cell_type": "code",
   "execution_count": 6,
   "metadata": {},
   "outputs": [
    {
     "ename": "ValueError",
     "evalue": "invalid literal for int() with base 10: 'Hello'",
     "output_type": "error",
     "traceback": [
      "\u001b[1;31m---------------------------------------------------------------------------\u001b[0m",
      "\u001b[1;31mValueError\u001b[0m                                Traceback (most recent call last)",
      "\u001b[1;32m<ipython-input-6-1d97e75f18bb>\u001b[0m in \u001b[0;36m<module>\u001b[1;34m\u001b[0m\n\u001b[0;32m      2\u001b[0m \u001b[1;33m\u001b[0m\u001b[0m\n\u001b[0;32m      3\u001b[0m \u001b[1;33m\u001b[0m\u001b[0m\n\u001b[1;32m----> 4\u001b[1;33m \u001b[0mprint\u001b[0m\u001b[1;33m(\u001b[0m\u001b[0mint\u001b[0m\u001b[1;33m(\u001b[0m\u001b[0mc\u001b[0m\u001b[1;33m)\u001b[0m\u001b[1;33m)\u001b[0m\u001b[1;31m# this will make error to rise\u001b[0m\u001b[1;33m\u001b[0m\u001b[1;33m\u001b[0m\u001b[0m\n\u001b[0m",
      "\u001b[1;31mValueError\u001b[0m: invalid literal for int() with base 10: 'Hello'"
     ]
    }
   ],
   "source": [
    "#howerver you can never convert a character containing string into other data type\n",
    "\n",
    "\n",
    "print(int(c))# this will make error to rise"
   ]
  },
  {
   "cell_type": "code",
   "execution_count": null,
   "metadata": {},
   "outputs": [],
   "source": []
  }
 ],
 "metadata": {
  "kernelspec": {
   "display_name": "Python 3",
   "language": "python",
   "name": "python3"
  },
  "language_info": {
   "codemirror_mode": {
    "name": "ipython",
    "version": 3
   },
   "file_extension": ".py",
   "mimetype": "text/x-python",
   "name": "python",
   "nbconvert_exporter": "python",
   "pygments_lexer": "ipython3",
   "version": "3.7.1"
  }
 },
 "nbformat": 4,
 "nbformat_minor": 2
}
