{
 "cells": [
  {
   "cell_type": "markdown",
   "metadata": {},
   "source": [
    "## If Else statement"
   ]
  },
  {
   "cell_type": "code",
   "execution_count": 2,
   "metadata": {},
   "outputs": [
    {
     "name": "stdout",
     "output_type": "stream",
     "text": [
      "a is equal to b\n"
     ]
    }
   ],
   "source": [
    "# there are basically two ways of having if statements\n",
    "\n",
    "#First alternative using if-else and nesting them\n",
    "\n",
    "a=15\n",
    "b=15\n",
    "if a>b:\n",
    "    print(\"a is greater than b\")\n",
    "else:  #keep in mind since else cannot have conditions such as in \"if statement\" \n",
    "    #we have to nest multiple \"if statements\" within it\n",
    "    if a<b:\n",
    "        print(\"a is less than b\")\n",
    "    else:\n",
    "        print(\"a is equal to b\")\n",
    "        \n",
    "#identations(spaces before the code ) help to separate which code is within which statement"
   ]
  },
  {
   "cell_type": "code",
   "execution_count": 2,
   "metadata": {},
   "outputs": [
    {
     "name": "stdout",
     "output_type": "stream",
     "text": [
      "a is equal to b\n"
     ]
    }
   ],
   "source": [
    "# when you have more than three conditions to check using \"if-else \" this way can be hectic\n",
    "a=22\n",
    "b=22\n",
    "if a>b:\n",
    "    print(\"a is greater than b\")\n",
    "   \n",
    "else:\n",
    "    if a<b:\n",
    "        print(\"a is less than b\")\n",
    "        \n",
    "    else:\n",
    "        if a==b:\n",
    "            print(\"a is equal to b\")\n",
    "            \n",
    "        "
   ]
  },
  {
   "cell_type": "markdown",
   "metadata": {},
   "source": [
    "## Example for indentation\n",
    "\n"
   ]
  },
  {
   "cell_type": "code",
   "execution_count": 5,
   "metadata": {},
   "outputs": [
    {
     "name": "stdout",
     "output_type": "stream",
     "text": [
      "a is greater than b\n",
      "hello\n"
     ]
    }
   ],
   "source": [
    "# Example for indentation would be \n",
    "\n",
    "a=300\n",
    "b=200\n",
    "if a>b:\n",
    "    print(\"a is greater than b\")# this print is within the \"if statement\"\n",
    "    # this print is only carried out when the condition is met i.e when a>b\n",
    "    \n",
    "    print(\"hello\")# this print statement is outside of the \"if statement\" as specified by identation\n",
    "\n"
   ]
  },
  {
   "cell_type": "code",
   "execution_count": 4,
   "metadata": {},
   "outputs": [
    {
     "name": "stdout",
     "output_type": "stream",
     "text": [
      "a is less than b\n"
     ]
    }
   ],
   "source": [
    "#second alternative of using if statements\n",
    "# Using \"if elif statements\"\n",
    "\n",
    "a=124\n",
    "b=236\n",
    "if a>b:\n",
    "    print(\"a is greater than b\")\n",
    "\n",
    "elif a<b:# elif unlike \"else\" can have conditions to check\n",
    "    print(\"a is less than b\")\n",
    "\n",
    "elif a==b:\n",
    "    print(\"a is equal to a\")\n",
    "    \n",
    "# elif is used to avoid excessive indentation in code \n",
    "# elif is also useful if there are multiple conditions to consider \n",
    "# There can be any no. of \"elif\" in the code until there are sufficient conditions"
   ]
  },
  {
   "cell_type": "code",
   "execution_count": 5,
   "metadata": {},
   "outputs": [
    {
     "name": "stdout",
     "output_type": "stream",
     "text": [
      "a is less than b\n"
     ]
    }
   ],
   "source": [
    "# With the same code we could have done\n",
    "a=124\n",
    "b=236\n",
    "if a>b:\n",
    "    print(\"a is greater than b\")\n",
    "\n",
    "elif a<b:\n",
    "    print(\"a is less than b\")\n",
    "\n",
    "else:# \"Else\" finally at last because there is no other condition left to compare\n",
    "    print(\"a is equal to a\")"
   ]
  },
  {
   "cell_type": "markdown",
   "metadata": {},
   "source": [
    "## Note about indentation\n"
   ]
  },
  {
   "cell_type": "code",
   "execution_count": 6,
   "metadata": {},
   "outputs": [
    {
     "name": "stdout",
     "output_type": "stream",
     "text": [
      "You are correct\n"
     ]
    }
   ],
   "source": [
    "#Indentations in python are given to specify a block of code.For example:\n",
    "\n",
    "a=32 # this is an independent single code line\n",
    "\n",
    "if a == 32 :# The code after \"if statement\" until \"print(...)\" is a block of code \n",
    "    print(\"You are correct\")#indentation before print() clarifies this line is within the \"if statement\"\n"
   ]
  },
  {
   "cell_type": "markdown",
   "metadata": {},
   "source": [
    "## Pass statement"
   ]
  },
  {
   "cell_type": "code",
   "execution_count": 7,
   "metadata": {},
   "outputs": [],
   "source": [
    "# pass statement is used when a syntax is there but is not required in current time\n",
    "\n",
    "# \"if-else \" statements cannot be empty so we use \"pass\" statement to not take an error\n",
    "\n",
    "a=45\n",
    "b=32\n",
    "\n",
    "if a>b:\n",
    "    pass\n",
    "     # This pass statement doesn't provide an output but make the code valid to run"
   ]
  },
  {
   "cell_type": "markdown",
   "metadata": {},
   "source": [
    "# BMI\n"
   ]
  },
  {
   "cell_type": "code",
   "execution_count": null,
   "metadata": {},
   "outputs": [],
   "source": [
    "a=float(input(\"what is your weight?: \"))\n",
    "float ley both decimal ra integer number haru cover garxa\n",
    "str(\"apple is my favourite fruit\")"
   ]
  }
 ],
 "metadata": {
  "kernelspec": {
   "display_name": "Python 3",
   "language": "python",
   "name": "python3"
  },
  "language_info": {
   "codemirror_mode": {
    "name": "ipython",
    "version": 3
   },
   "file_extension": ".py",
   "mimetype": "text/x-python",
   "name": "python",
   "nbconvert_exporter": "python",
   "pygments_lexer": "ipython3",
   "version": "3.7.1"
  }
 },
 "nbformat": 4,
 "nbformat_minor": 2
}
